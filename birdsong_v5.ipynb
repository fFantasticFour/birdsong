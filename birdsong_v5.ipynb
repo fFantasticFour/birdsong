{
 "cells": [
  {
   "cell_type": "code",
   "execution_count": null,
   "metadata": {},
   "outputs": [],
   "source": [
    "import IPython\n",
    "from IPython.display import Audio\n",
    "from scipy.io import wavfile\n",
    "import scipy.signal\n",
    "import numpy as np\n",
    "import matplotlib.pyplot as plt\n",
    "import librosa\n",
    "%matplotlib inline"
   ]
  },
  {
   "cell_type": "code",
   "execution_count": null,
   "metadata": {},
   "outputs": [],
   "source": [
    "# from https://stackoverflow.com/questions/33933842/how-to-generate-noise-in-frequency-range-with-numpy\n",
    "def fftnoise(f):\n",
    "    f = np.array(f, dtype='complex')\n",
    "    Np = (len(f) - 1) // 2\n",
    "    phases = np.random.rand(Np) * 2 * np.pi\n",
    "    phases = np.cos(phases) + 1j * np.sin(phases)\n",
    "    f[1:Np+1] *= phases\n",
    "    f[-1:-1-Np:-1] = np.conj(f[1:Np+1])\n",
    "    return np.fft.ifft(f).real\n",
    "\n",
    "def band_limited_noise(min_freq, max_freq, samples=1024, samplerate=1):\n",
    "    freqs = np.abs(np.fft.fftfreq(samples, 1/samplerate))\n",
    "    f = np.zeros(samples)\n",
    "    f[np.logical_and(freqs>=min_freq, freqs<=max_freq)] = 1\n",
    "    return fftnoise(f)"
   ]
  },
  {
   "cell_type": "code",
   "execution_count": null,
   "metadata": {},
   "outputs": [],
   "source": [
    "#from https://timsainburg.com/noise-reduction-python.html\n",
    "import time\n",
    "from datetime import timedelta as td\n",
    "\n",
    "def _stft(y, n_fft, hop_length, win_length):\n",
    "    return librosa.stft(y=y, n_fft=n_fft, hop_length=hop_length, win_length=win_length)\n",
    "def _istft(y, hop_length, win_length):\n",
    "    return librosa.istft(y, hop_length, win_length)\n",
    "def _amp_to_db(x):\n",
    "    return librosa.core.amplitude_to_db(x, ref=1.0, amin=1e-20, top_db=80.0)\n",
    "def _db_to_amp(x,):\n",
    "    return librosa.core.db_to_amplitude(x,ref=1.0)\n",
    "def plot_spectrogram(signal, title):\n",
    "    fig, ax = plt.subplots(figsize=(20,4))\n",
    "    cax = ax.matshow(signal, origin = 'lower', aspect='auto', cmap=plt.cm.seismic, vmin=-1*np.max(np.abs(signal)), vmax=np.max(np.abs(signal)))\n",
    "    fig.colorbar(cax)\n",
    "    ax.set_title(title)\n",
    "    plt.tight_layout()\n",
    "    plt.show()\n",
    "    \n",
    "def plot_statistics_and_filter(mean_freq_noise, std_freq_noise, noise_thresh, smoothing_filter):\n",
    "    fig, ax = plt.subplots(ncols=2, figsize=(20,4))\n",
    "    plt_mean, = ax[0].plot(mean_freq_noise, label='Mean power of noise')\n",
    "    plt_std, = ax[0].plot(std_freq_noise, label='Std. power of noise')\n",
    "    plt_std, = ax[0].plot(noise_thresh, label='Noise threshold (by frequency)')\n",
    "    ax[0].set_title('Threshold for mask')\n",
    "    ax[0].legend()\n",
    "    cax = ax[1].matshow(smoothing_filter, origin = 'lower')\n",
    "    fig.colorbar(cax)\n",
    "    ax[1].set_title('Filter for smoothing Mask')\n",
    "    plt.show()\n",
    "    \n",
    "def removeNoise(audio_clip, noise_clip, n_grad_freq=2, n_grad_time=4, n_fft=2048, win_length=2048, hop_length=512, n_std_thresh=1.5, prop_decrease=1.0, verbose=False, visual=False):\n",
    "    \"\"\"Remove noise from audio based upon a clip containing only noise\n",
    "\n",
    "    Args:\n",
    "        audio_clip (array): The first parameter.\n",
    "        noise_clip (array): The second parameter.\n",
    "        n_grad_freq (int): how many frequency channels to smooth over with the mask.\n",
    "        n_grad_time (int): how many time channels to smooth over with the mask.\n",
    "        n_fft (int): number audio of frames between STFT columns.\n",
    "        win_length (int): Each frame of audio is windowed by `window()`. The window will be of length `win_length` and then padded with zeros to match `n_fft`..\n",
    "        hop_length (int):number audio of frames between STFT columns.\n",
    "        n_std_thresh (int): how many standard deviations louder than the mean dB of the noise (at each frequency level) to be considered signal\n",
    "        prop_decrease (float): To what extent should you decrease noise (1 = all, 0 = none)\n",
    "        visual (bool): Whether to plot the steps of the algorithm\n",
    "\n",
    "    Returns:\n",
    "        array: The recovered signal with noise subtracted\n",
    "\n",
    "    \"\"\"\n",
    "    if verbose: start = time.time()\n",
    "    # STFT over noise\n",
    "    noise_stft = _stft(noise_clip, n_fft, hop_length, win_length) \n",
    "    noise_stft_db = _amp_to_db(np.abs(noise_stft))# convert to dB\n",
    "    # Calculate statistics over noise\n",
    "    mean_freq_noise = np.mean(noise_stft_db, axis =1)\n",
    "    std_freq_noise = np.std(noise_stft_db, axis =1)\n",
    "    noise_thresh = mean_freq_noise+std_freq_noise*n_std_thresh\n",
    "    if verbose: print('STFT on noise:', td(seconds=time.time()-start)); start = time.time()\n",
    "    # STFT over signal\n",
    "    if verbose: start = time.time()\n",
    "    sig_stft = _stft(audio_clip, n_fft, hop_length, win_length)\n",
    "    sig_stft_db = _amp_to_db(np.abs(sig_stft))\n",
    "    if verbose: print('STFT on signal:',td(seconds=time.time()-start)); start = time.time()\n",
    "    # Calculate value to mask dB to\n",
    "    mask_gain_dB = np.min(_amp_to_db(np.abs(sig_stft)))\n",
    "    print(noise_thresh, mask_gain_dB)\n",
    "    # Create a smoothing filter for the mask in time and frequency\n",
    "    smoothing_filter = np.outer(np.concatenate([np.linspace(0,1,n_grad_freq+1,endpoint=False),np.linspace(1,0,n_grad_freq+2)])[1:-1], \n",
    "                       np.concatenate([np.linspace(0,1,n_grad_time+1,endpoint=False),np.linspace(1,0,n_grad_time+2)])[1:-1])\n",
    "    smoothing_filter = smoothing_filter/np.sum(smoothing_filter)\n",
    "    # calculate the threshold for each frequency/time bin\n",
    "    db_thresh = np.repeat(np.reshape(noise_thresh, [1,len(mean_freq_noise)]), np.shape(sig_stft_db)[1], axis = 0).T\n",
    "    # mask if the signal is above the threshold\n",
    "    sig_mask = sig_stft_db<db_thresh\n",
    "    if verbose: print('Masking:', td(seconds=time.time()-start)); start = time.time()\n",
    "    # convolve the mask with a smoothing filter\n",
    "    sig_mask = scipy.signal.fftconvolve(sig_mask, smoothing_filter,  mode='same')\n",
    "    sig_mask = sig_mask*prop_decrease\n",
    "    if verbose: print('Mask convolution:', td(seconds=time.time()-start)); start = time.time()\n",
    "    # mask the signal\n",
    "    sig_stft_db_masked = sig_stft_db *(1-sig_mask) + np.ones(np.shape(mask_gain_dB))*mask_gain_dB*sig_mask # mask real\n",
    "    sig_imag_masked = np.imag(sig_stft)*(1-sig_mask)\n",
    "    sig_stft_amp = ((_db_to_amp(sig_stft_db_masked)*np.sign(sig_stft))+(1j * sig_imag_masked) )\n",
    "    if verbose: print('Mask application:', td(seconds=time.time()-start)); start = time.time()\n",
    "    # recover the signal\n",
    "    recovered_signal = _istft(sig_stft_amp, hop_length, win_length)\n",
    "    recovered_spec = _amp_to_db(np.abs(_stft(recovered_signal, n_fft, hop_length, win_length)))\n",
    "    if verbose: print('Signal recovery:', td(seconds=time.time()-start));\n",
    "    if visual: plot_spectrogram(noise_stft_db, title='Noise')\n",
    "    if visual: plot_statistics_and_filter(mean_freq_noise, std_freq_noise, noise_thresh, smoothing_filter)\n",
    "    if visual: plot_spectrogram(sig_stft_db, title='Signal')\n",
    "    if visual: plot_spectrogram(sig_mask, title='Mask applied')\n",
    "    if visual: plot_spectrogram(sig_stft_db_masked, title='Masked signal')\n",
    "    if visual: plot_spectrogram(recovered_spec, title='Recovered spectrogram')\n",
    "    return recovered_signal"
   ]
  },
  {
   "cell_type": "code",
   "execution_count": null,
   "metadata": {},
   "outputs": [],
   "source": [
    "wav_loc = \"bob1.wav\"\n",
    "rate, data= wavfile.read(wav_loc)\n",
    "data = data/32768\n",
    "mytime = np.arange(0, len(data)/rate, 1/rate)\n",
    "len(mytime)==len(data)"
   ]
  },
  {
   "cell_type": "code",
   "execution_count": null,
   "metadata": {},
   "outputs": [],
   "source": [
    "Audio(data,rate=rate)"
   ]
  },
  {
   "cell_type": "code",
   "execution_count": null,
   "metadata": {},
   "outputs": [],
   "source": [
    "fig, ax = plt.subplots(figsize=(20,4))\n",
    "ax.plot(mytime,data)"
   ]
  },
  {
   "cell_type": "code",
   "execution_count": null,
   "metadata": {},
   "outputs": [],
   "source": [
    "n_fft = 2048\n",
    "hop_length = 512\n",
    "win_length = 2048"
   ]
  },
  {
   "cell_type": "code",
   "execution_count": null,
   "metadata": {},
   "outputs": [],
   "source": [
    "n=len(data)\n",
    "y_pad = librosa.util.fix_length(data,n + n_fft //2)\n",
    "\n",
    "noisy_stft = librosa.stft(y_pad, n_fft=n_fft, hop_length=hop_length, win_length=win_length)\n",
    "#recovered_signal = librosa.istft(noisy_stft, hop_length=hop_length, win_length=win_length,length = n)\n",
    "#np.max(np.abs(data-recovered_signal))"
   ]
  },
  {
   "cell_type": "code",
   "execution_count": null,
   "metadata": {},
   "outputs": [],
   "source": [
    "noise_stft_db = _amp_to_db(np.abs(noisy_stft))# convert to dB\n",
    "plot_spectrogram(noise_stft_db, title='Noise')"
   ]
  },
  {
   "cell_type": "code",
   "execution_count": null,
   "metadata": {},
   "outputs": [],
   "source": [
    "from scipy.signal import butter, lfilter\n",
    "\n",
    "def butter_bandpass(lowcut, highcut, fs, order=5):\n",
    "    nyq = 0.5 * fs\n",
    "    low = lowcut / nyq\n",
    "    high = highcut / nyq\n",
    "    b, a = butter(order, [low, high], btype='band')\n",
    "    return b, a\n",
    "\n",
    "\n",
    "def butter_bandpass_filter(data, lowcut, highcut, fs, order=5):\n",
    "    b, a = butter_bandpass(lowcut, highcut, fs, order=order)\n",
    "    y = lfilter(b, a, data)\n",
    "    return y"
   ]
  },
  {
   "cell_type": "code",
   "execution_count": null,
   "metadata": {},
   "outputs": [],
   "source": [
    "lowcut = 1600\n",
    "highcut = 2400\n",
    "fs = 24000\n",
    "bandpassed = butter_bandpass_filter(data, lowcut, highcut, fs, order=6)\n",
    "len(bandpassed)"
   ]
  },
  {
   "cell_type": "code",
   "execution_count": null,
   "metadata": {},
   "outputs": [],
   "source": [
    "Audio(bandpassed,rate=24000)"
   ]
  },
  {
   "cell_type": "code",
   "execution_count": null,
   "metadata": {},
   "outputs": [],
   "source": [
    "#bandpassed_stft = _stft(bandpassed, n_fft, hop_length, win_length)\n",
    "n_fft = 2048\n",
    "hop_length = 512\n",
    "win_length = 2048\n",
    "\n",
    "n=len(data)\n",
    "y_pad = librosa.util.fix_length(bandpassed,n + n_fft //2)\n",
    "bandpassed_stft = librosa.stft(y_pad, n_fft=n_fft, hop_length=hop_length, win_length=win_length)"
   ]
  },
  {
   "cell_type": "code",
   "execution_count": null,
   "metadata": {},
   "outputs": [],
   "source": [
    "bandpassed_stft_db = _amp_to_db(np.abs(bandpassed_stft))# convert to dB\n",
    "plot_spectrogram(bandpassed_stft_db, title='Bandpassed')"
   ]
  },
  {
   "cell_type": "code",
   "execution_count": null,
   "metadata": {},
   "outputs": [],
   "source": [
    "####just checking...\n",
    "#recovered_signal = librosa.istft(bandpassed_stft, hop_length=hop_length, win_length=win_length,length = n)\n",
    "#Audio(recovered_signal,rate=24000)"
   ]
  },
  {
   "cell_type": "code",
   "execution_count": null,
   "metadata": {},
   "outputs": [],
   "source": [
    "silence_begins = int(236.5*rate)\n",
    "silence_ends = int(238.5*rate)\n",
    "noise_clip = bandpassed[silence_begins:silence_ends]"
   ]
  },
  {
   "cell_type": "code",
   "execution_count": null,
   "metadata": {},
   "outputs": [],
   "source": [
    "denoised = removeNoise(audio_clip=bandpassed, noise_clip=noise_clip,verbose=True,visual=True)"
   ]
  },
  {
   "cell_type": "code",
   "execution_count": null,
   "metadata": {},
   "outputs": [],
   "source": [
    "Audio(denoised,rate = 24000)"
   ]
  },
  {
   "cell_type": "code",
   "execution_count": null,
   "metadata": {},
   "outputs": [],
   "source": [
    "scipy.io.wavfile.write('noise_reduced.wav',rate,denoised)"
   ]
  },
  {
   "cell_type": "code",
   "execution_count": null,
   "metadata": {},
   "outputs": [],
   "source": [
    "from skimage import data\n",
    "from skimage.feature import match_template"
   ]
  },
  {
   "cell_type": "code",
   "execution_count": null,
   "metadata": {},
   "outputs": [],
   "source": [
    "n=len(denoised)\n",
    "y_pad = librosa.util.fix_length(denoised,n + n_fft //2)\n",
    "denoised_stft = librosa.stft(y_pad, n_fft=n_fft, hop_length=hop_length, win_length=win_length)\n",
    "denoised_stft_db = _amp_to_db(np.abs(denoised_stft))# convert to dB"
   ]
  },
  {
   "cell_type": "code",
   "execution_count": null,
   "metadata": {},
   "outputs": [],
   "source": [
    "template_begins = librosa.time_to_frames(159, sr=rate, hop_length=hop_length)\n",
    "template_ends = librosa.time_to_frames(160, sr=rate, hop_length=hop_length)\n",
    "\n",
    "template=denoised_stft_db[140:205,template_begins+14:template_ends-22]\n",
    "plot_spectrogram(template,title='Template')"
   ]
  },
  {
   "cell_type": "code",
   "execution_count": null,
   "metadata": {},
   "outputs": [],
   "source": [
    "image = denoised_stft_db[130:215,:]"
   ]
  },
  {
   "cell_type": "code",
   "execution_count": null,
   "metadata": {},
   "outputs": [],
   "source": [
    "#perform a cross correlation between template and scrubbed field recording\n",
    "result = match_template(image, template)"
   ]
  },
  {
   "cell_type": "code",
   "execution_count": null,
   "metadata": {},
   "outputs": [],
   "source": [
    "#perform a local maximum search to find the areas of greatest correlation\n",
    "from scipy import ndimage as ndi\n",
    "import matplotlib.pyplot as plt\n",
    "from skimage.feature import peak_local_max\n",
    "from skimage import data, img_as_float\n",
    "\n",
    "# image_max is the dilation of im with a 20*20 structuring element\n",
    "# It is used within peak_local_max function\n",
    "image_max = ndi.maximum_filter(result, size=5, mode='reflect')\n",
    "# Comparison between image_max and im to find the coordinates of local maxima\n",
    "coordinates = peak_local_max(result, min_distance=5,threshold_abs = 0.55)\n"
   ]
  },
  {
   "cell_type": "code",
   "execution_count": null,
   "metadata": {},
   "outputs": [],
   "source": [
    "#detection times in bob1.wave\n",
    "x=coordinates[:,0]\n",
    "y=coordinates[:,1]\n",
    "call_times = librosa.frames_to_time(y, sr=24000)\n",
    "sorted(call_times)"
   ]
  },
  {
   "cell_type": "code",
   "execution_count": null,
   "metadata": {},
   "outputs": [],
   "source": [
    "#detection correlations with template\n",
    "result[x,y]"
   ]
  }
 ],
 "metadata": {
  "kernelspec": {
   "display_name": "Python 3",
   "language": "python",
   "name": "python3"
  },
  "language_info": {
   "codemirror_mode": {
    "name": "ipython",
    "version": 3
   },
   "file_extension": ".py",
   "mimetype": "text/x-python",
   "name": "python",
   "nbconvert_exporter": "python",
   "pygments_lexer": "ipython3",
   "version": "3.7.2"
  }
 },
 "nbformat": 4,
 "nbformat_minor": 2
}
